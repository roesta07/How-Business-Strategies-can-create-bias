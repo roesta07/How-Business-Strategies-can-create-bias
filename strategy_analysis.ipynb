{
  "nbformat": 4,
  "nbformat_minor": 0,
  "metadata": {
    "colab": {
      "name": "strategy_analysis.ipynb",
      "provenance": [],
      "collapsed_sections": [],
      "authorship_tag": "ABX9TyOLrW9ZVUkWgKsNJWSxZ504",
      "include_colab_link": true
    },
    "kernelspec": {
      "name": "python3",
      "display_name": "Python 3"
    }
  },
  "cells": [
    {
      "cell_type": "markdown",
      "metadata": {
        "id": "view-in-github",
        "colab_type": "text"
      },
      "source": [
        "<a href=\"https://colab.research.google.com/github/roesta07/How-Business-Strategies-can-create-bias/blob/main/strategy_analysis.ipynb\" target=\"_parent\"><img src=\"https://colab.research.google.com/assets/colab-badge.svg\" alt=\"Open In Colab\"/></a>"
      ]
    },
    {
      "cell_type": "code",
      "metadata": {
        "colab": {
          "base_uri": "https://localhost:8080/"
        },
        "id": "d3AW1vFt3dlt",
        "outputId": "554c0d6f-da7e-4f4a-98c8-8fb8cc485744"
      },
      "source": [
        "# Imports and utility functions\r\n",
        "# Install packages that are not installed in colab\r\n",
        "try:\r\n",
        "  import google.colab\r\n",
        "  IN_COLAB = True\r\n",
        "except:\r\n",
        "  IN_COLAB = False\r\n",
        "\r\n",
        "if IN_COLAB:\r\n",
        "    !pip install pymc3==3.9\r\n",
        "    !pip install --upgrade daft\r\n",
        "    !pip install --upgrade theano\r\n",
        "    !pip install causalgraphicalmodels\r\n",
        "    !pip install watermark\r\n",
        "    !pip install arviz --no-dependencies\r\n",
        "    !pip install netCDF4\r\n",
        "    !pip install xarray"
      ],
      "execution_count": 2,
      "outputs": [
        {
          "output_type": "stream",
          "text": [
            "Collecting pymc3==3.9\n",
            "\u001b[?25l  Downloading https://files.pythonhosted.org/packages/20/7f/5111fe4697329a9cb39211a05cca3c5cc21abdcbdac6d23530710bfafded/pymc3-3.9.0-py3-none-any.whl (1.9MB)\n",
            "\u001b[K     |████████████████████████████████| 1.9MB 7.6MB/s \n",
            "\u001b[?25hCollecting arviz>=0.8.3\n",
            "\u001b[?25l  Downloading https://files.pythonhosted.org/packages/bd/59/cbfc6ddcbf53b3073bd7d0ef744033f0528d8143688b45dead2c8b8bef70/arviz-0.11.1-py3-none-any.whl (1.5MB)\n",
            "\u001b[K     |████████████████████████████████| 1.6MB 40.2MB/s \n",
            "\u001b[?25hRequirement already satisfied: scipy>=0.18.1 in /usr/local/lib/python3.6/dist-packages (from pymc3==3.9) (1.4.1)\n",
            "Collecting contextvars; python_version < \"3.7\"\n",
            "  Downloading https://files.pythonhosted.org/packages/83/96/55b82d9f13763be9d672622e1b8106c85acb83edd7cc2fa5bc67cd9877e9/contextvars-2.4.tar.gz\n",
            "Requirement already satisfied: pandas>=0.18.0 in /usr/local/lib/python3.6/dist-packages (from pymc3==3.9) (1.1.5)\n",
            "Requirement already satisfied: fastprogress>=0.2.0 in /usr/local/lib/python3.6/dist-packages (from pymc3==3.9) (1.0.0)\n",
            "Requirement already satisfied: numpy>=1.13.0 in /usr/local/lib/python3.6/dist-packages (from pymc3==3.9) (1.19.5)\n",
            "Requirement already satisfied: theano>=1.0.4 in /usr/local/lib/python3.6/dist-packages (from pymc3==3.9) (1.0.5)\n",
            "Requirement already satisfied: patsy>=0.5.1 in /usr/local/lib/python3.6/dist-packages (from pymc3==3.9) (0.5.1)\n",
            "Requirement already satisfied: typing-extensions>=3.7.4 in /usr/local/lib/python3.6/dist-packages (from pymc3==3.9) (3.7.4.3)\n",
            "Requirement already satisfied: h5py>=2.7.0 in /usr/local/lib/python3.6/dist-packages (from pymc3==3.9) (2.10.0)\n",
            "Requirement already satisfied: matplotlib>=3.0 in /usr/local/lib/python3.6/dist-packages (from arviz>=0.8.3->pymc3==3.9) (3.2.2)\n",
            "Collecting netcdf4\n",
            "\u001b[?25l  Downloading https://files.pythonhosted.org/packages/1a/71/a321abeee439caf94850b4f68ecef68d2ad584a5a9566816c051654cff94/netCDF4-1.5.5.1-cp36-cp36m-manylinux2014_x86_64.whl (4.7MB)\n",
            "\u001b[K     |████████████████████████████████| 4.7MB 45.2MB/s \n",
            "\u001b[?25hRequirement already satisfied: setuptools>=38.4 in /usr/local/lib/python3.6/dist-packages (from arviz>=0.8.3->pymc3==3.9) (53.0.0)\n",
            "Requirement already satisfied: packaging in /usr/local/lib/python3.6/dist-packages (from arviz>=0.8.3->pymc3==3.9) (20.9)\n",
            "Collecting xarray>=0.16.1\n",
            "\u001b[?25l  Downloading https://files.pythonhosted.org/packages/10/6f/9aa15b1f9001593d51a0e417a8ad2127ef384d08129a0720b3599133c1ed/xarray-0.16.2-py3-none-any.whl (736kB)\n",
            "\u001b[K     |████████████████████████████████| 737kB 40.0MB/s \n",
            "\u001b[?25hCollecting immutables>=0.9\n",
            "\u001b[?25l  Downloading https://files.pythonhosted.org/packages/4a/52/e64a14a99c509cbdfe0405e9f076aef0331cb9548a3efa1d5bacd524978a/immutables-0.15-cp36-cp36m-manylinux1_x86_64.whl (100kB)\n",
            "\u001b[K     |████████████████████████████████| 102kB 9.4MB/s \n",
            "\u001b[?25hRequirement already satisfied: python-dateutil>=2.7.3 in /usr/local/lib/python3.6/dist-packages (from pandas>=0.18.0->pymc3==3.9) (2.8.1)\n",
            "Requirement already satisfied: pytz>=2017.2 in /usr/local/lib/python3.6/dist-packages (from pandas>=0.18.0->pymc3==3.9) (2018.9)\n",
            "Requirement already satisfied: six>=1.9.0 in /usr/local/lib/python3.6/dist-packages (from theano>=1.0.4->pymc3==3.9) (1.15.0)\n",
            "Requirement already satisfied: kiwisolver>=1.0.1 in /usr/local/lib/python3.6/dist-packages (from matplotlib>=3.0->arviz>=0.8.3->pymc3==3.9) (1.3.1)\n",
            "Requirement already satisfied: cycler>=0.10 in /usr/local/lib/python3.6/dist-packages (from matplotlib>=3.0->arviz>=0.8.3->pymc3==3.9) (0.10.0)\n",
            "Requirement already satisfied: pyparsing!=2.0.4,!=2.1.2,!=2.1.6,>=2.0.1 in /usr/local/lib/python3.6/dist-packages (from matplotlib>=3.0->arviz>=0.8.3->pymc3==3.9) (2.4.7)\n",
            "Collecting cftime\n",
            "\u001b[?25l  Downloading https://files.pythonhosted.org/packages/21/65/b5a4965862b5d4a9347050f31f1a13c4ec873ebec92d52c958b9d57753f2/cftime-1.4.1-cp36-cp36m-manylinux2014_x86_64.whl (316kB)\n",
            "\u001b[K     |████████████████████████████████| 317kB 42.0MB/s \n",
            "\u001b[?25hBuilding wheels for collected packages: contextvars\n",
            "  Building wheel for contextvars (setup.py) ... \u001b[?25l\u001b[?25hdone\n",
            "  Created wheel for contextvars: filename=contextvars-2.4-cp36-none-any.whl size=7667 sha256=0be2d00bb6c5698cee77a32ff30999c2110831d33724fda3cd5660fff0a246d9\n",
            "  Stored in directory: /root/.cache/pip/wheels/a5/7d/68/1ebae2668bda2228686e3c1cf16f2c2384cea6e9334ad5f6de\n",
            "Successfully built contextvars\n",
            "Installing collected packages: cftime, netcdf4, xarray, arviz, immutables, contextvars, pymc3\n",
            "  Found existing installation: xarray 0.15.1\n",
            "    Uninstalling xarray-0.15.1:\n",
            "      Successfully uninstalled xarray-0.15.1\n",
            "  Found existing installation: pymc3 3.7\n",
            "    Uninstalling pymc3-3.7:\n",
            "      Successfully uninstalled pymc3-3.7\n",
            "Successfully installed arviz-0.11.1 cftime-1.4.1 contextvars-2.4 immutables-0.15 netcdf4-1.5.5.1 pymc3-3.9.0 xarray-0.16.2\n",
            "Collecting daft\n",
            "  Downloading https://files.pythonhosted.org/packages/f8/56/4a94a7b49308643e476474146e26e0079b0abb41c7990bd73a4307afd665/daft-0.1.0.tar.gz\n",
            "Requirement already satisfied, skipping upgrade: numpy in /usr/local/lib/python3.6/dist-packages (from daft) (1.19.5)\n",
            "Requirement already satisfied, skipping upgrade: matplotlib in /usr/local/lib/python3.6/dist-packages (from daft) (3.2.2)\n",
            "Requirement already satisfied, skipping upgrade: pyparsing!=2.0.4,!=2.1.2,!=2.1.6,>=2.0.1 in /usr/local/lib/python3.6/dist-packages (from matplotlib->daft) (2.4.7)\n",
            "Requirement already satisfied, skipping upgrade: kiwisolver>=1.0.1 in /usr/local/lib/python3.6/dist-packages (from matplotlib->daft) (1.3.1)\n",
            "Requirement already satisfied, skipping upgrade: cycler>=0.10 in /usr/local/lib/python3.6/dist-packages (from matplotlib->daft) (0.10.0)\n",
            "Requirement already satisfied, skipping upgrade: python-dateutil>=2.1 in /usr/local/lib/python3.6/dist-packages (from matplotlib->daft) (2.8.1)\n",
            "Requirement already satisfied, skipping upgrade: six in /usr/local/lib/python3.6/dist-packages (from cycler>=0.10->matplotlib->daft) (1.15.0)\n",
            "Building wheels for collected packages: daft\n",
            "  Building wheel for daft (setup.py) ... \u001b[?25l\u001b[?25hdone\n",
            "  Created wheel for daft: filename=daft-0.1.0-cp36-none-any.whl size=11375 sha256=0e9f7a30a79ec3388bb4d3a132e869a4c4a98f4716eeac837496f738d3daf301\n",
            "  Stored in directory: /root/.cache/pip/wheels/37/e9/8a/4186b68a6a3a042e0947b445ec6184e61b583bfad59af6fe49\n",
            "Successfully built daft\n",
            "Installing collected packages: daft\n",
            "  Found existing installation: daft 0.0.4\n",
            "    Uninstalling daft-0.0.4:\n",
            "      Successfully uninstalled daft-0.0.4\n",
            "Successfully installed daft-0.1.0\n",
            "Requirement already up-to-date: theano in /usr/local/lib/python3.6/dist-packages (1.0.5)\n",
            "Requirement already satisfied, skipping upgrade: six>=1.9.0 in /usr/local/lib/python3.6/dist-packages (from theano) (1.15.0)\n",
            "Requirement already satisfied, skipping upgrade: numpy>=1.9.1 in /usr/local/lib/python3.6/dist-packages (from theano) (1.19.5)\n",
            "Requirement already satisfied, skipping upgrade: scipy>=0.14 in /usr/local/lib/python3.6/dist-packages (from theano) (1.4.1)\n",
            "Collecting causalgraphicalmodels\n",
            "  Downloading https://files.pythonhosted.org/packages/c8/ee/3b2d184576f3cb4873cebfc696e8e5c1e53eaef691f38aea76c206f9f916/causalgraphicalmodels-0.0.4-py3-none-any.whl\n",
            "Requirement already satisfied: graphviz in /usr/local/lib/python3.6/dist-packages (from causalgraphicalmodels) (0.10.1)\n",
            "Requirement already satisfied: networkx in /usr/local/lib/python3.6/dist-packages (from causalgraphicalmodels) (2.5)\n",
            "Requirement already satisfied: numpy in /usr/local/lib/python3.6/dist-packages (from causalgraphicalmodels) (1.19.5)\n",
            "Requirement already satisfied: pandas in /usr/local/lib/python3.6/dist-packages (from causalgraphicalmodels) (1.1.5)\n",
            "Requirement already satisfied: decorator>=4.3.0 in /usr/local/lib/python3.6/dist-packages (from networkx->causalgraphicalmodels) (4.4.2)\n",
            "Requirement already satisfied: pytz>=2017.2 in /usr/local/lib/python3.6/dist-packages (from pandas->causalgraphicalmodels) (2018.9)\n",
            "Requirement already satisfied: python-dateutil>=2.7.3 in /usr/local/lib/python3.6/dist-packages (from pandas->causalgraphicalmodels) (2.8.1)\n",
            "Requirement already satisfied: six>=1.5 in /usr/local/lib/python3.6/dist-packages (from python-dateutil>=2.7.3->pandas->causalgraphicalmodels) (1.15.0)\n",
            "Installing collected packages: causalgraphicalmodels\n",
            "Successfully installed causalgraphicalmodels-0.0.4\n",
            "Collecting watermark\n",
            "  Downloading https://files.pythonhosted.org/packages/60/fe/3ed83b6122e70dce6fe269dfd763103c333f168bf91037add73ea4fe81c2/watermark-2.0.2-py2.py3-none-any.whl\n",
            "Requirement already satisfied: ipython in /usr/local/lib/python3.6/dist-packages (from watermark) (5.5.0)\n",
            "Requirement already satisfied: traitlets>=4.2 in /usr/local/lib/python3.6/dist-packages (from ipython->watermark) (4.3.3)\n",
            "Requirement already satisfied: setuptools>=18.5 in /usr/local/lib/python3.6/dist-packages (from ipython->watermark) (53.0.0)\n",
            "Requirement already satisfied: pickleshare in /usr/local/lib/python3.6/dist-packages (from ipython->watermark) (0.7.5)\n",
            "Requirement already satisfied: prompt-toolkit<2.0.0,>=1.0.4 in /usr/local/lib/python3.6/dist-packages (from ipython->watermark) (1.0.18)\n",
            "Requirement already satisfied: simplegeneric>0.8 in /usr/local/lib/python3.6/dist-packages (from ipython->watermark) (0.8.1)\n",
            "Requirement already satisfied: decorator in /usr/local/lib/python3.6/dist-packages (from ipython->watermark) (4.4.2)\n",
            "Requirement already satisfied: pexpect; sys_platform != \"win32\" in /usr/local/lib/python3.6/dist-packages (from ipython->watermark) (4.8.0)\n",
            "Requirement already satisfied: pygments in /usr/local/lib/python3.6/dist-packages (from ipython->watermark) (2.6.1)\n",
            "Requirement already satisfied: ipython-genutils in /usr/local/lib/python3.6/dist-packages (from traitlets>=4.2->ipython->watermark) (0.2.0)\n",
            "Requirement already satisfied: six in /usr/local/lib/python3.6/dist-packages (from traitlets>=4.2->ipython->watermark) (1.15.0)\n",
            "Requirement already satisfied: wcwidth in /usr/local/lib/python3.6/dist-packages (from prompt-toolkit<2.0.0,>=1.0.4->ipython->watermark) (0.2.5)\n",
            "Requirement already satisfied: ptyprocess>=0.5 in /usr/local/lib/python3.6/dist-packages (from pexpect; sys_platform != \"win32\"->ipython->watermark) (0.7.0)\n",
            "Installing collected packages: watermark\n",
            "Successfully installed watermark-2.0.2\n",
            "Requirement already satisfied: arviz in /usr/local/lib/python3.6/dist-packages (0.11.1)\n",
            "Requirement already satisfied: netCDF4 in /usr/local/lib/python3.6/dist-packages (1.5.5.1)\n",
            "Requirement already satisfied: numpy>=1.9 in /usr/local/lib/python3.6/dist-packages (from netCDF4) (1.19.5)\n",
            "Requirement already satisfied: cftime in /usr/local/lib/python3.6/dist-packages (from netCDF4) (1.4.1)\n",
            "Requirement already satisfied: xarray in /usr/local/lib/python3.6/dist-packages (0.16.2)\n",
            "Requirement already satisfied: pandas>=0.25 in /usr/local/lib/python3.6/dist-packages (from xarray) (1.1.5)\n",
            "Requirement already satisfied: setuptools>=38.4 in /usr/local/lib/python3.6/dist-packages (from xarray) (53.0.0)\n",
            "Requirement already satisfied: numpy>=1.15 in /usr/local/lib/python3.6/dist-packages (from xarray) (1.19.5)\n",
            "Requirement already satisfied: python-dateutil>=2.7.3 in /usr/local/lib/python3.6/dist-packages (from pandas>=0.25->xarray) (2.8.1)\n",
            "Requirement already satisfied: pytz>=2017.2 in /usr/local/lib/python3.6/dist-packages (from pandas>=0.25->xarray) (2018.9)\n",
            "Requirement already satisfied: six>=1.5 in /usr/local/lib/python3.6/dist-packages (from python-dateutil>=2.7.3->pandas>=0.25->xarray) (1.15.0)\n"
          ],
          "name": "stdout"
        }
      ]
    },
    {
      "cell_type": "code",
      "metadata": {
        "id": "-8aJmBp-38mP"
      },
      "source": [
        "import arviz as az\r\n",
        "import matplotlib.pyplot as plt\r\n",
        "import seaborn as sns\r\n",
        "import numpy as np\r\n",
        "import pandas as pd\r\n",
        "import pymc3 as pm\r\n",
        "import scipy.stats as stats\r\n",
        "import daft\r\n",
        "from theano import theano as shared\r\n",
        "\r\n",
        "from scipy.interpolate import griddata\r\n",
        "from causalgraphicalmodels import CausalGraphicalModel"
      ],
      "execution_count": 3,
      "outputs": []
    },
    {
      "cell_type": "code",
      "metadata": {
        "id": "gDcE_mAo4vvh"
      },
      "source": [
        "%config InlineBackend.figure_format = 'retina'\r\n",
        "az.style.use('arviz-darkgrid')\r\n",
        "# %load_ext watermark\r\n",
        "az.rcParams[\"stats.hdi_prob\"] = 0.89  # sets default credible interval used by arviz€"
      ],
      "execution_count": 4,
      "outputs": []
    },
    {
      "cell_type": "code",
      "metadata": {
        "id": "Yqn8reEh4wfM"
      },
      "source": [
        "## business simulation\r\n",
        "b_CO=1\r\n",
        "b_UO=1\r\n",
        "b_OP=2\r\n",
        "b_UP=1\r\n",
        "b_CP=0\r\n",
        "\r\n",
        "\r\n",
        "\r\n",
        "n_samples=500\r\n",
        "C=np.random.normal(10,2,size=n_samples)\r\n",
        "## which are regeions\r\n",
        "## east or west\r\n",
        "U = 2*np.random.binomial(1,0.7,size=n_samples)-1\r\n",
        "O = np.random.normal(b_CO*C+b_UO*U,1,size=n_samples)\r\n",
        "P=  np.random.normal(b_UP*U+b_OP*O+b_CP*C,2,size=n_samples)\r\n"
      ],
      "execution_count": 41,
      "outputs": []
    },
    {
      "cell_type": "code",
      "metadata": {
        "colab": {
          "base_uri": "https://localhost:8080/",
          "height": 204
        },
        "id": "e7LO_wv-6wQT",
        "outputId": "ab3e0582-1efe-472f-ea5b-03410870625d"
      },
      "source": [
        "## lets create a dataframe\r\n",
        "df=pd.DataFrame(np.vstack([C,O,P,U]).T,columns=['C','O','P','U'])\r\n",
        "df.head()"
      ],
      "execution_count": 42,
      "outputs": [
        {
          "output_type": "execute_result",
          "data": {
            "text/html": [
              "<div>\n",
              "<style scoped>\n",
              "    .dataframe tbody tr th:only-of-type {\n",
              "        vertical-align: middle;\n",
              "    }\n",
              "\n",
              "    .dataframe tbody tr th {\n",
              "        vertical-align: top;\n",
              "    }\n",
              "\n",
              "    .dataframe thead th {\n",
              "        text-align: right;\n",
              "    }\n",
              "</style>\n",
              "<table border=\"1\" class=\"dataframe\">\n",
              "  <thead>\n",
              "    <tr style=\"text-align: right;\">\n",
              "      <th></th>\n",
              "      <th>C</th>\n",
              "      <th>O</th>\n",
              "      <th>P</th>\n",
              "      <th>U</th>\n",
              "    </tr>\n",
              "  </thead>\n",
              "  <tbody>\n",
              "    <tr>\n",
              "      <th>0</th>\n",
              "      <td>8.460415</td>\n",
              "      <td>9.269408</td>\n",
              "      <td>15.734126</td>\n",
              "      <td>-1.0</td>\n",
              "    </tr>\n",
              "    <tr>\n",
              "      <th>1</th>\n",
              "      <td>12.966366</td>\n",
              "      <td>13.931534</td>\n",
              "      <td>27.791250</td>\n",
              "      <td>-1.0</td>\n",
              "    </tr>\n",
              "    <tr>\n",
              "      <th>2</th>\n",
              "      <td>11.698770</td>\n",
              "      <td>9.458520</td>\n",
              "      <td>16.561038</td>\n",
              "      <td>-1.0</td>\n",
              "    </tr>\n",
              "    <tr>\n",
              "      <th>3</th>\n",
              "      <td>10.329245</td>\n",
              "      <td>11.531452</td>\n",
              "      <td>25.023763</td>\n",
              "      <td>1.0</td>\n",
              "    </tr>\n",
              "    <tr>\n",
              "      <th>4</th>\n",
              "      <td>8.163500</td>\n",
              "      <td>8.943648</td>\n",
              "      <td>23.725636</td>\n",
              "      <td>1.0</td>\n",
              "    </tr>\n",
              "  </tbody>\n",
              "</table>\n",
              "</div>"
            ],
            "text/plain": [
              "           C          O          P    U\n",
              "0   8.460415   9.269408  15.734126 -1.0\n",
              "1  12.966366  13.931534  27.791250 -1.0\n",
              "2  11.698770   9.458520  16.561038 -1.0\n",
              "3  10.329245  11.531452  25.023763  1.0\n",
              "4   8.163500   8.943648  23.725636  1.0"
            ]
          },
          "metadata": {
            "tags": []
          },
          "execution_count": 42
        }
      ]
    },
    {
      "cell_type": "code",
      "metadata": {
        "id": "8HQpuruo6_Ff",
        "colab": {
          "base_uri": "https://localhost:8080/",
          "height": 221
        },
        "outputId": "fe6b5d4c-b06e-4d06-ca60-87e08863705b"
      },
      "source": [
        "## Some number transformations\r\n",
        "\r\n",
        "def std_standarize(col):\r\n",
        "  '''Takes in a numpy array, returns its standard unit'''\r\n",
        "  return (col-col.mean())/col.std()\r\n",
        "\r\n",
        "def normalize(col):\r\n",
        "  '''Takes in a numpy array, returns min-max scale'''\r\n",
        "  return col/col.max()\r\n",
        "\r\n",
        "df=df.assign(C_std=std_standarize(df['C']),O_norm=normalize(df['O']),P_std=std_standarize(df['P']))\r\n",
        "print(df['P_std'].mean())\r\n",
        "df.head()\r\n"
      ],
      "execution_count": 37,
      "outputs": [
        {
          "output_type": "stream",
          "text": [
            "1.538547067525542e-15\n"
          ],
          "name": "stdout"
        },
        {
          "output_type": "execute_result",
          "data": {
            "text/html": [
              "<div>\n",
              "<style scoped>\n",
              "    .dataframe tbody tr th:only-of-type {\n",
              "        vertical-align: middle;\n",
              "    }\n",
              "\n",
              "    .dataframe tbody tr th {\n",
              "        vertical-align: top;\n",
              "    }\n",
              "\n",
              "    .dataframe thead th {\n",
              "        text-align: right;\n",
              "    }\n",
              "</style>\n",
              "<table border=\"1\" class=\"dataframe\">\n",
              "  <thead>\n",
              "    <tr style=\"text-align: right;\">\n",
              "      <th></th>\n",
              "      <th>C</th>\n",
              "      <th>O</th>\n",
              "      <th>P</th>\n",
              "      <th>U</th>\n",
              "      <th>C_std</th>\n",
              "      <th>O_norm</th>\n",
              "      <th>P_std</th>\n",
              "    </tr>\n",
              "  </thead>\n",
              "  <tbody>\n",
              "    <tr>\n",
              "      <th>0</th>\n",
              "      <td>11.991669</td>\n",
              "      <td>11.151960</td>\n",
              "      <td>20.206274</td>\n",
              "      <td>1.0</td>\n",
              "      <td>0.965669</td>\n",
              "      <td>0.642646</td>\n",
              "      <td>-0.211756</td>\n",
              "    </tr>\n",
              "    <tr>\n",
              "      <th>1</th>\n",
              "      <td>8.075194</td>\n",
              "      <td>8.329097</td>\n",
              "      <td>17.506015</td>\n",
              "      <td>1.0</td>\n",
              "      <td>-0.972063</td>\n",
              "      <td>0.479975</td>\n",
              "      <td>-0.667067</td>\n",
              "    </tr>\n",
              "    <tr>\n",
              "      <th>2</th>\n",
              "      <td>8.698336</td>\n",
              "      <td>10.508111</td>\n",
              "      <td>24.906674</td>\n",
              "      <td>1.0</td>\n",
              "      <td>-0.663755</td>\n",
              "      <td>0.605543</td>\n",
              "      <td>0.580814</td>\n",
              "    </tr>\n",
              "    <tr>\n",
              "      <th>3</th>\n",
              "      <td>11.450184</td>\n",
              "      <td>11.886631</td>\n",
              "      <td>26.651850</td>\n",
              "      <td>1.0</td>\n",
              "      <td>0.697762</td>\n",
              "      <td>0.684982</td>\n",
              "      <td>0.875081</td>\n",
              "    </tr>\n",
              "    <tr>\n",
              "      <th>4</th>\n",
              "      <td>9.129323</td>\n",
              "      <td>9.524547</td>\n",
              "      <td>20.464955</td>\n",
              "      <td>1.0</td>\n",
              "      <td>-0.450518</td>\n",
              "      <td>0.548864</td>\n",
              "      <td>-0.168138</td>\n",
              "    </tr>\n",
              "  </tbody>\n",
              "</table>\n",
              "</div>"
            ],
            "text/plain": [
              "           C          O          P    U     C_std    O_norm     P_std\n",
              "0  11.991669  11.151960  20.206274  1.0  0.965669  0.642646 -0.211756\n",
              "1   8.075194   8.329097  17.506015  1.0 -0.972063  0.479975 -0.667067\n",
              "2   8.698336  10.508111  24.906674  1.0 -0.663755  0.605543  0.580814\n",
              "3  11.450184  11.886631  26.651850  1.0  0.697762  0.684982  0.875081\n",
              "4   9.129323   9.524547  20.464955  1.0 -0.450518  0.548864 -0.168138"
            ]
          },
          "metadata": {
            "tags": []
          },
          "execution_count": 37
        }
      ]
    },
    {
      "cell_type": "code",
      "metadata": {
        "colab": {
          "base_uri": "https://localhost:8080/",
          "height": 142
        },
        "id": "1ndaCFy0AiPn",
        "outputId": "37daa1d5-2a08-4143-e54d-bf5025a9d475"
      },
      "source": [
        "## Modeling\r\n",
        "with pm.Model() as m_1:\r\n",
        "  a=pm.Normal('a',0,0.2)\r\n",
        "  bCP=pm.Normal('b_CP',0,0.5)\r\n",
        "  b_OP=pm.Normal('b_OP',0,1)\r\n",
        "  sigma=pm.Exponential('sigma',1)\r\n",
        "  mu=pm.Deterministic('mu',a+b_CP*(df['C_std'])+b_OP*(df['O_norm']))\r\n",
        "  profit=pm.Normal('profit',mu=mu,sigma=sigma,observed=df['P_std'])\r\n",
        "  trace_1=pm.sample()"
      ],
      "execution_count": 38,
      "outputs": [
        {
          "output_type": "stream",
          "text": [
            "Auto-assigning NUTS sampler...\n",
            "Initializing NUTS using jitter+adapt_diag...\n",
            "Sequential sampling (2 chains in 1 job)\n",
            "NUTS: [sigma, b_OP, b_CP, a]\n"
          ],
          "name": "stderr"
        },
        {
          "output_type": "display_data",
          "data": {
            "text/html": [
              "\n",
              "    <div>\n",
              "        <style>\n",
              "            /* Turns off some styling */\n",
              "            progress {\n",
              "                /* gets rid of default border in Firefox and Opera. */\n",
              "                border: none;\n",
              "                /* Needs to be in here for Safari polyfill so background images work as expected. */\n",
              "                background-size: auto;\n",
              "            }\n",
              "            .progress-bar-interrupted, .progress-bar-interrupted::-webkit-progress-bar {\n",
              "                background: #F44336;\n",
              "            }\n",
              "        </style>\n",
              "      <progress value='2000' class='' max='2000' style='width:300px; height:20px; vertical-align: middle;'></progress>\n",
              "      100.00% [2000/2000 00:05<00:00 Sampling chain 0, 0 divergences]\n",
              "    </div>\n",
              "    "
            ],
            "text/plain": [
              "<IPython.core.display.HTML object>"
            ]
          },
          "metadata": {
            "tags": []
          }
        },
        {
          "output_type": "display_data",
          "data": {
            "text/html": [
              "\n",
              "    <div>\n",
              "        <style>\n",
              "            /* Turns off some styling */\n",
              "            progress {\n",
              "                /* gets rid of default border in Firefox and Opera. */\n",
              "                border: none;\n",
              "                /* Needs to be in here for Safari polyfill so background images work as expected. */\n",
              "                background-size: auto;\n",
              "            }\n",
              "            .progress-bar-interrupted, .progress-bar-interrupted::-webkit-progress-bar {\n",
              "                background: #F44336;\n",
              "            }\n",
              "        </style>\n",
              "      <progress value='2000' class='' max='2000' style='width:300px; height:20px; vertical-align: middle;'></progress>\n",
              "      100.00% [2000/2000 00:05<00:00 Sampling chain 1, 0 divergences]\n",
              "    </div>\n",
              "    "
            ],
            "text/plain": [
              "<IPython.core.display.HTML object>"
            ]
          },
          "metadata": {
            "tags": []
          }
        },
        {
          "output_type": "stream",
          "text": [
            "Sampling 2 chains for 1_000 tune and 1_000 draw iterations (2_000 + 2_000 draws total) took 10 seconds.\n"
          ],
          "name": "stderr"
        }
      ]
    },
    {
      "cell_type": "code",
      "metadata": {
        "colab": {
          "base_uri": "https://localhost:8080/",
          "height": 227
        },
        "id": "bMxYAdQMMMw8",
        "outputId": "c7fb01e8-d053-497f-c610-a1ee0d6044c4"
      },
      "source": [
        "az.summary(trace_1,var_names=['~mu'])"
      ],
      "execution_count": 39,
      "outputs": [
        {
          "output_type": "stream",
          "text": [
            "/usr/local/lib/python3.6/dist-packages/arviz/data/io_pymc3.py:92: FutureWarning: Using `from_pymc3` without the model will be deprecated in a future release. Not using the model will return less accurate and less useful results. Make sure you use the model argument or call from_pymc3 within a model context.\n",
            "  FutureWarning,\n"
          ],
          "name": "stderr"
        },
        {
          "output_type": "execute_result",
          "data": {
            "text/html": [
              "<div>\n",
              "<style scoped>\n",
              "    .dataframe tbody tr th:only-of-type {\n",
              "        vertical-align: middle;\n",
              "    }\n",
              "\n",
              "    .dataframe tbody tr th {\n",
              "        vertical-align: top;\n",
              "    }\n",
              "\n",
              "    .dataframe thead th {\n",
              "        text-align: right;\n",
              "    }\n",
              "</style>\n",
              "<table border=\"1\" class=\"dataframe\">\n",
              "  <thead>\n",
              "    <tr style=\"text-align: right;\">\n",
              "      <th></th>\n",
              "      <th>mean</th>\n",
              "      <th>sd</th>\n",
              "      <th>hdi_5.5%</th>\n",
              "      <th>hdi_94.5%</th>\n",
              "      <th>mcse_mean</th>\n",
              "      <th>mcse_sd</th>\n",
              "      <th>ess_mean</th>\n",
              "      <th>ess_sd</th>\n",
              "      <th>ess_bulk</th>\n",
              "      <th>ess_tail</th>\n",
              "      <th>r_hat</th>\n",
              "    </tr>\n",
              "  </thead>\n",
              "  <tbody>\n",
              "    <tr>\n",
              "      <th>a</th>\n",
              "      <td>-2.691</td>\n",
              "      <td>0.106</td>\n",
              "      <td>-2.857</td>\n",
              "      <td>-2.523</td>\n",
              "      <td>0.003</td>\n",
              "      <td>0.002</td>\n",
              "      <td>977.0</td>\n",
              "      <td>977.0</td>\n",
              "      <td>985.0</td>\n",
              "      <td>1061.0</td>\n",
              "      <td>1.0</td>\n",
              "    </tr>\n",
              "    <tr>\n",
              "      <th>b_CP</th>\n",
              "      <td>0.005</td>\n",
              "      <td>0.501</td>\n",
              "      <td>-0.835</td>\n",
              "      <td>0.747</td>\n",
              "      <td>0.013</td>\n",
              "      <td>0.011</td>\n",
              "      <td>1410.0</td>\n",
              "      <td>959.0</td>\n",
              "      <td>1410.0</td>\n",
              "      <td>1235.0</td>\n",
              "      <td>1.0</td>\n",
              "    </tr>\n",
              "    <tr>\n",
              "      <th>b_OP</th>\n",
              "      <td>4.534</td>\n",
              "      <td>0.172</td>\n",
              "      <td>4.270</td>\n",
              "      <td>4.814</td>\n",
              "      <td>0.006</td>\n",
              "      <td>0.004</td>\n",
              "      <td>947.0</td>\n",
              "      <td>946.0</td>\n",
              "      <td>952.0</td>\n",
              "      <td>1184.0</td>\n",
              "      <td>1.0</td>\n",
              "    </tr>\n",
              "    <tr>\n",
              "      <th>sigma</th>\n",
              "      <td>0.581</td>\n",
              "      <td>0.020</td>\n",
              "      <td>0.552</td>\n",
              "      <td>0.615</td>\n",
              "      <td>0.001</td>\n",
              "      <td>0.000</td>\n",
              "      <td>1206.0</td>\n",
              "      <td>1206.0</td>\n",
              "      <td>1197.0</td>\n",
              "      <td>1191.0</td>\n",
              "      <td>1.0</td>\n",
              "    </tr>\n",
              "  </tbody>\n",
              "</table>\n",
              "</div>"
            ],
            "text/plain": [
              "        mean     sd  hdi_5.5%  hdi_94.5%  ...  ess_sd  ess_bulk  ess_tail  r_hat\n",
              "a     -2.691  0.106    -2.857     -2.523  ...   977.0     985.0    1061.0    1.0\n",
              "b_CP   0.005  0.501    -0.835      0.747  ...   959.0    1410.0    1235.0    1.0\n",
              "b_OP   4.534  0.172     4.270      4.814  ...   946.0     952.0    1184.0    1.0\n",
              "sigma  0.581  0.020     0.552      0.615  ...  1206.0    1197.0    1191.0    1.0\n",
              "\n",
              "[4 rows x 11 columns]"
            ]
          },
          "metadata": {
            "tags": []
          },
          "execution_count": 39
        }
      ]
    },
    {
      "cell_type": "code",
      "metadata": {
        "id": "M5SsOHN1NbEM"
      },
      "source": [
        ""
      ],
      "execution_count": null,
      "outputs": []
    }
  ]
}